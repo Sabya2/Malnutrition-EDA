{
  "nbformat": 4,
  "nbformat_minor": 5,
  "metadata": {
    "kernelspec": {
      "display_name": "Python 3",
      "language": "python",
      "name": "python3"
    },
    "language_info": {
      "codemirror_mode": {
        "name": "ipython",
        "version": 3
      },
      "file_extension": ".py",
      "mimetype": "text/x-python",
      "name": "python",
      "nbconvert_exporter": "python",
      "pygments_lexer": "ipython3",
      "version": "3.7.10"
    },
    "papermill": {
      "default_parameters": {},
      "duration": 10.696211,
      "end_time": "2021-06-17T11:55:37.633286",
      "environment_variables": {},
      "exception": null,
      "input_path": "__notebook__.ipynb",
      "output_path": "__notebook__.ipynb",
      "parameters": {},
      "start_time": "2021-06-17T11:55:26.937075",
      "version": "2.3.3"
    },
    "colab": {
      "name": "malnutrition-EDA.ipynb",
      "provenance": [],
      "collapsed_sections": [
        "QftDs869IPYh",
        "DRz58hhtIV59",
        "eEuRG4IRJBIh"
      ],
      "include_colab_link": true
    }
  },
  "cells": [
    {
      "cell_type": "markdown",
      "metadata": {
        "id": "view-in-github",
        "colab_type": "text"
      },
      "source": [
        "<a href=\"https://colab.research.google.com/github/Sabya2/Malnutrition-EDA/blob/main/malnutrition_EDA.ipynb\" target=\"_parent\"><img src=\"https://colab.research.google.com/assets/colab-badge.svg\" alt=\"Open In Colab\"/></a>"
      ]
    },
    {
      "cell_type": "code",
      "metadata": {
        "colab": {
          "base_uri": "https://localhost:8080/"
        },
        "id": "1j659nDvGKWR",
        "outputId": "b7f97cad-c41a-4ef2-a3cf-6fc92a2b4533"
      },
      "source": [
        "from google.colab import drive\n",
        "drive.mount('/content/drive')"
      ],
      "id": "1j659nDvGKWR",
      "execution_count": null,
      "outputs": [
        {
          "output_type": "stream",
          "text": [
            "Drive already mounted at /content/drive; to attempt to forcibly remount, call drive.mount(\"/content/drive\", force_remount=True).\n"
          ],
          "name": "stdout"
        }
      ]
    },
    {
      "cell_type": "markdown",
      "metadata": {
        "id": "QftDs869IPYh"
      },
      "source": [
        "# Libraries"
      ],
      "id": "QftDs869IPYh"
    },
    {
      "cell_type": "code",
      "metadata": {
        "_cell_guid": "b1076dfc-b9ad-4769-8c92-a6c4dae69d19",
        "_uuid": "8f2839f25d086af736a60e9eeb907d3b93b6e0e5",
        "execution": {
          "iopub.execute_input": "2021-06-17T11:55:33.816954Z",
          "iopub.status.busy": "2021-06-17T11:55:33.816313Z",
          "iopub.status.idle": "2021-06-17T11:55:34.596134Z",
          "shell.execute_reply": "2021-06-17T11:55:34.596521Z",
          "shell.execute_reply.started": "2021-06-08T05:57:48.418642Z"
        },
        "papermill": {
          "duration": 0.811534,
          "end_time": "2021-06-17T11:55:34.596825",
          "exception": false,
          "start_time": "2021-06-17T11:55:33.785291",
          "status": "completed"
        },
        "tags": [],
        "id": "standing-warrant"
      },
      "source": [
        "import numpy as np \n",
        "import pandas as pd \n",
        "import matplotlib.pyplot as plt\n",
        "import seaborn as sns\n",
        "%matplotlib inline\n",
        "from sklearn.preprocessing import MinMaxScaler\n"
      ],
      "id": "standing-warrant",
      "execution_count": null,
      "outputs": []
    },
    {
      "cell_type": "markdown",
      "metadata": {
        "execution": {
          "iopub.execute_input": "2021-06-05T06:15:06.747982Z",
          "iopub.status.busy": "2021-06-05T06:15:06.747509Z",
          "iopub.status.idle": "2021-06-05T06:15:06.757599Z",
          "shell.execute_reply": "2021-06-05T06:15:06.756292Z",
          "shell.execute_reply.started": "2021-06-05T06:15:06.747912Z"
        },
        "papermill": {
          "duration": 0.019085,
          "end_time": "2021-06-17T11:55:34.636295",
          "exception": false,
          "start_time": "2021-06-17T11:55:34.617210",
          "status": "completed"
        },
        "tags": [],
        "id": "infinite-officer"
      },
      "source": [
        "# Inspiration\n",
        "\n",
        " * Was there a decline or rise in the number of malnutrition cases country-wise?\n",
        " * Which countries bear the greatest share of all forms of malnutrition?\n",
        " * % of stunted, overweight and wasted children under 5, by country income classification\n",
        " * Develop a GHI, and based on GHI explore the worst and best placed countries."
      ],
      "id": "infinite-officer"
    },
    {
      "cell_type": "markdown",
      "metadata": {
        "id": "DRz58hhtIV59"
      },
      "source": [
        "# Data"
      ],
      "id": "DRz58hhtIV59"
    },
    {
      "cell_type": "code",
      "metadata": {
        "execution": {
          "iopub.execute_input": "2021-06-17T11:55:34.677444Z",
          "iopub.status.busy": "2021-06-17T11:55:34.676890Z",
          "iopub.status.idle": "2021-06-17T11:55:34.755501Z",
          "shell.execute_reply": "2021-06-17T11:55:34.755087Z",
          "shell.execute_reply.started": "2021-06-08T06:02:29.425057Z"
        },
        "papermill": {
          "duration": 0.100223,
          "end_time": "2021-06-17T11:55:34.755625",
          "exception": false,
          "start_time": "2021-06-17T11:55:34.655402",
          "status": "completed"
        },
        "tags": [],
        "colab": {
          "base_uri": "https://localhost:8080/",
          "height": 301
        },
        "id": "caroline-commodity",
        "outputId": "4a0ccc46-3a2b-4e86-87a9-caa00eed5047"
      },
      "source": [
        "country_wise_average = \"/content/drive/MyDrive/Kaggle data/country-wise-average.csv\"\n",
        "malnutrition_estimates = \"/content/drive/MyDrive/Kaggle data/malnutrition-estimates.csv\"\n",
        "\n",
        "df_country = pd.read_csv(country_wise_average)\n",
        "df_country.head(10)\n",
        "\n",
        "df_mal = pd.read_csv(malnutrition_estimates)\n",
        "df_mal.head(2)\n"
      ],
      "id": "caroline-commodity",
      "execution_count": null,
      "outputs": [
        {
          "output_type": "execute_result",
          "data": {
            "text/html": [
              "<div>\n",
              "<style scoped>\n",
              "    .dataframe tbody tr th:only-of-type {\n",
              "        vertical-align: middle;\n",
              "    }\n",
              "\n",
              "    .dataframe tbody tr th {\n",
              "        vertical-align: top;\n",
              "    }\n",
              "\n",
              "    .dataframe thead th {\n",
              "        text-align: right;\n",
              "    }\n",
              "</style>\n",
              "<table border=\"1\" class=\"dataframe\">\n",
              "  <thead>\n",
              "    <tr style=\"text-align: right;\">\n",
              "      <th></th>\n",
              "      <th>Unnamed: 0</th>\n",
              "      <th>ISO code</th>\n",
              "      <th>Country</th>\n",
              "      <th>Survey Year</th>\n",
              "      <th>Year</th>\n",
              "      <th>Income Classification</th>\n",
              "      <th>LDC</th>\n",
              "      <th>LIFD</th>\n",
              "      <th>LLDC or SID2</th>\n",
              "      <th>Survey Sample (N)</th>\n",
              "      <th>Severe Wasting</th>\n",
              "      <th>Wasting</th>\n",
              "      <th>Overweight</th>\n",
              "      <th>Stunting</th>\n",
              "      <th>Underweight</th>\n",
              "      <th>Notes</th>\n",
              "      <th>Report Author</th>\n",
              "      <th>Source</th>\n",
              "      <th>Short Source</th>\n",
              "      <th>U5 Population ('000s)</th>\n",
              "    </tr>\n",
              "  </thead>\n",
              "  <tbody>\n",
              "    <tr>\n",
              "      <th>0</th>\n",
              "      <td>0</td>\n",
              "      <td>AFG</td>\n",
              "      <td>AFGHANISTAN</td>\n",
              "      <td>1997</td>\n",
              "      <td>1997</td>\n",
              "      <td>0</td>\n",
              "      <td>1.0</td>\n",
              "      <td>1.0</td>\n",
              "      <td>1.0</td>\n",
              "      <td>4,846</td>\n",
              "      <td>NaN</td>\n",
              "      <td>18.2</td>\n",
              "      <td>6.5</td>\n",
              "      <td>53.2</td>\n",
              "      <td>44.9</td>\n",
              "      <td>Converted estimates</td>\n",
              "      <td>CIET International</td>\n",
              "      <td>Afghanistan 1997 multiple indicator baseline (...</td>\n",
              "      <td>MICS</td>\n",
              "      <td>3838.877</td>\n",
              "    </tr>\n",
              "    <tr>\n",
              "      <th>1</th>\n",
              "      <td>1</td>\n",
              "      <td>AFG</td>\n",
              "      <td>AFGHANISTAN</td>\n",
              "      <td>2004</td>\n",
              "      <td>2004</td>\n",
              "      <td>0</td>\n",
              "      <td>1.0</td>\n",
              "      <td>1.0</td>\n",
              "      <td>1.0</td>\n",
              "      <td>946</td>\n",
              "      <td>3.5</td>\n",
              "      <td>8.6</td>\n",
              "      <td>4.6</td>\n",
              "      <td>59.3</td>\n",
              "      <td>32.9</td>\n",
              "      <td>NaN</td>\n",
              "      <td>Ministry of Public Health (Afghanistan), UNICE...</td>\n",
              "      <td>Summary report of the national nutrition surve...</td>\n",
              "      <td>NNS</td>\n",
              "      <td>4789.353</td>\n",
              "    </tr>\n",
              "  </tbody>\n",
              "</table>\n",
              "</div>"
            ],
            "text/plain": [
              "   Unnamed: 0 ISO code  ... Short Source U5 Population ('000s)\n",
              "0           0      AFG  ...         MICS              3838.877\n",
              "1           1      AFG  ...          NNS              4789.353\n",
              "\n",
              "[2 rows x 20 columns]"
            ]
          },
          "metadata": {
            "tags": []
          },
          "execution_count": 4
        }
      ]
    },
    {
      "cell_type": "code",
      "metadata": {
        "execution": {
          "iopub.execute_input": "2021-06-17T11:55:34.889262Z",
          "iopub.status.busy": "2021-06-17T11:55:34.888719Z",
          "iopub.status.idle": "2021-06-17T11:55:34.899237Z",
          "shell.execute_reply": "2021-06-17T11:55:34.898726Z",
          "shell.execute_reply.started": "2021-06-08T06:02:32.406874Z"
        },
        "papermill": {
          "duration": 0.032397,
          "end_time": "2021-06-17T11:55:34.899351",
          "exception": false,
          "start_time": "2021-06-17T11:55:34.866954",
          "status": "completed"
        },
        "tags": [],
        "colab": {
          "base_uri": "https://localhost:8080/"
        },
        "id": "canadian-alexander",
        "outputId": "b4aa2de1-7fa8-402e-9345-69d3f4406eb7"
      },
      "source": [
        "# data information\n",
        "\n",
        "print(\"country wise data\", df_country.shape)\n",
        "print('\\ncountry unique in country data',len(df_country['Country'].unique()))\n",
        "print('\\n' ,list(df_country.columns))\n",
        "\n",
        "print(\"\\n\\nMalnutrition data\", df_mal.shape)\n",
        "print('\\ncountry unique malnutrition data',len(df_mal['Country'].unique()))\n",
        "print('\\n' ,list(df_mal.columns))"
      ],
      "id": "canadian-alexander",
      "execution_count": null,
      "outputs": [
        {
          "output_type": "stream",
          "text": [
            "country wise data (152, 8)\n",
            "\n",
            "country unique in country data 152\n",
            "\n",
            " ['Country', 'Income Classification', 'Severe Wasting', 'Wasting', 'Overweight', 'Stunting', 'Underweight', \"U5 Population ('000s)\"]\n",
            "\n",
            "\n",
            "Malnutrition data (924, 20)\n",
            "\n",
            "country unique malnutrition data 152\n",
            "\n",
            " ['Unnamed: 0', 'ISO code', 'Country', 'Survey Year', 'Year', 'Income Classification', 'LDC', 'LIFD', 'LLDC or SID2', 'Survey Sample (N)', 'Severe Wasting', 'Wasting', 'Overweight', 'Stunting', 'Underweight', 'Notes', 'Report Author', 'Source', 'Short Source', \"U5 Population ('000s)\"]\n"
          ],
          "name": "stdout"
        }
      ]
    },
    {
      "cell_type": "markdown",
      "metadata": {
        "papermill": {
          "duration": 0.019482,
          "end_time": "2021-06-17T11:55:34.847136",
          "exception": false,
          "start_time": "2021-06-17T11:55:34.827654",
          "status": "completed"
        },
        "tags": [],
        "id": "federal-begin"
      },
      "source": [
        "\n",
        "# Things to be updated sequentially \n",
        "* feature: sample size is string, convert to float/integer.\n",
        "    * Nan is converetd into 0, so handle that later while using it \n",
        "* Remove from malnutrition data ['Unnamed: 0', 'ISO code', 'Survey Year', 'Notes'(no sense for now), 'Report Author', 'Source', 'Short Source',]\n",
        "* Fill the missing data country specific \n",
        "    * within group missing data, either median or mean\n",
        "    * if possible, use the correlation between sample syrvey if present and data, to fill the missing data. (linear relation)\n",
        "* Based on country wise groups, and fill the missing values in the country wise data\n",
        "* GHI calculation and use the rank to explore data\n",
        "    * lack of mortality value so use the rest \n",
        "    * combine the severe wasting and wasting as one unit\n",
        "* Income class is country specific or survey specific\n",
        "    * if country specific, then get the the country specific daaset to work and different classes\n",
        "    * If survey specific, see what happens\n",
        "* EDA\n"
      ],
      "id": "federal-begin"
    },
    {
      "cell_type": "markdown",
      "metadata": {
        "id": "eEuRG4IRJBIh"
      },
      "source": [
        "# Data Clean"
      ],
      "id": "eEuRG4IRJBIh"
    },
    {
      "cell_type": "code",
      "metadata": {
        "execution": {
          "iopub.execute_input": "2021-06-17T11:55:34.946021Z",
          "iopub.status.busy": "2021-06-17T11:55:34.945228Z",
          "iopub.status.idle": "2021-06-17T11:55:34.951687Z",
          "shell.execute_reply": "2021-06-17T11:55:34.952361Z",
          "shell.execute_reply.started": "2021-06-08T06:02:34.802978Z"
        },
        "papermill": {
          "duration": 0.033155,
          "end_time": "2021-06-17T11:55:34.952525",
          "exception": false,
          "start_time": "2021-06-17T11:55:34.919370",
          "status": "completed"
        },
        "tags": [],
        "id": "amino-database"
      },
      "source": [
        "# removing unwanted columns in malnutrition dataset\n",
        "df_mal.drop(['Unnamed: 0', 'ISO code', 'Survey Year', 'Notes', 'Report Author', 'Source', 'Short Source'],inplace = True, axis = 1)"
      ],
      "id": "amino-database",
      "execution_count": null,
      "outputs": []
    },
    {
      "cell_type": "code",
      "metadata": {
        "execution": {
          "iopub.execute_input": "2021-06-17T11:55:35.008529Z",
          "iopub.status.busy": "2021-06-17T11:55:35.008006Z",
          "iopub.status.idle": "2021-06-17T11:55:35.019974Z",
          "shell.execute_reply": "2021-06-17T11:55:35.019438Z",
          "shell.execute_reply.started": "2021-06-08T06:02:36.906441Z"
        },
        "papermill": {
          "duration": 0.045594,
          "end_time": "2021-06-17T11:55:35.020143",
          "exception": false,
          "start_time": "2021-06-17T11:55:34.974549",
          "status": "completed"
        },
        "tags": [],
        "colab": {
          "base_uri": "https://localhost:8080/"
        },
        "id": "perfect-directive",
        "outputId": "252bc533-9b7a-4b5a-ca79-95cdb91e4b51"
      },
      "source": [
        "# Converting survey sample to float/integer of malnutrition dataset\n",
        "\n",
        "print(df_mal['Survey Sample (N)'].dtypes)\n",
        "df_mal['Survey Sample (N)'].isnull().sum()\n",
        "\n",
        "df_mal['Survey Sample (N)'] = df_mal['Survey Sample (N)'].str.replace(\",\",\"\")\n",
        "# df_mal['Survey Sample (N)'].loc[471]\n",
        "df_mal['Survey Sample (N)'] = df_mal['Survey Sample (N)'].str.replace(\"-\",\"0\")\n",
        "\n",
        "df_mal['Survey Sample (N)'] = df_mal['Survey Sample (N)'].fillna(0)\n",
        "df_mal['Survey Sample (N)'] = pd.to_numeric(df_mal['Survey Sample (N)'])\n",
        "\n",
        "# Converted survey sample to float/integer\n",
        "print(df_mal['Survey Sample (N)'].dtypes)\n",
        "df_mal['Survey Sample (N)'].isnull().sum()"
      ],
      "id": "perfect-directive",
      "execution_count": null,
      "outputs": [
        {
          "output_type": "stream",
          "text": [
            "object\n",
            "int64\n"
          ],
          "name": "stdout"
        },
        {
          "output_type": "execute_result",
          "data": {
            "text/plain": [
              "0"
            ]
          },
          "metadata": {
            "tags": []
          },
          "execution_count": 7
        }
      ]
    },
    {
      "cell_type": "markdown",
      "metadata": {
        "id": "DaVc47BFJGr7"
      },
      "source": [
        "## Handling Missing Data for malnutrition dataset\n",
        "Approach : Country wise the missing values are imputed. Running a loop for each column, grouped by country names and imputed"
      ],
      "id": "DaVc47BFJGr7"
    },
    {
      "cell_type": "code",
      "metadata": {
        "execution": {
          "iopub.execute_input": "2021-06-17T11:55:35.081054Z",
          "iopub.status.busy": "2021-06-17T11:55:35.080253Z",
          "iopub.status.idle": "2021-06-17T11:55:35.098934Z",
          "shell.execute_reply": "2021-06-17T11:55:35.098297Z",
          "shell.execute_reply.started": "2021-06-08T06:02:45.935852Z"
        },
        "papermill": {
          "duration": 0.047818,
          "end_time": "2021-06-17T11:55:35.099110",
          "exception": false,
          "start_time": "2021-06-17T11:55:35.051292",
          "status": "completed"
        },
        "tags": [],
        "colab": {
          "base_uri": "https://localhost:8080/"
        },
        "id": "verbal-anxiety",
        "outputId": "a4d8f035-2977-465a-c5be-70e0849204fe"
      },
      "source": [
        "null = df_mal.isnull().sum()\n",
        "print(null[null>0])\n",
        "# or print(df_mal.isnull().sum()[df_mal.isnull().sum() > 0])"
      ],
      "id": "verbal-anxiety",
      "execution_count": null,
      "outputs": [
        {
          "output_type": "stream",
          "text": [
            "Severe Wasting    228\n",
            "Wasting            47\n",
            "Overweight        136\n",
            "Stunting           37\n",
            "Underweight        22\n",
            "dtype: int64\n"
          ],
          "name": "stdout"
        }
      ]
    },
    {
      "cell_type": "code",
      "metadata": {
        "execution": {
          "iopub.execute_input": "2021-06-17T11:55:35.147629Z",
          "iopub.status.busy": "2021-06-17T11:55:35.146813Z",
          "iopub.status.idle": "2021-06-17T11:55:35.175854Z",
          "shell.execute_reply": "2021-06-17T11:55:35.176355Z",
          "shell.execute_reply.started": "2021-06-08T06:02:40.687519Z"
        },
        "papermill": {
          "duration": 0.055484,
          "end_time": "2021-06-17T11:55:35.176530",
          "exception": false,
          "start_time": "2021-06-17T11:55:35.121046",
          "status": "completed"
        },
        "tags": [],
        "colab": {
          "base_uri": "https://localhost:8080/",
          "height": 241
        },
        "id": "loose-prompt",
        "outputId": "1b2e5ef4-0191-469c-d465-60bea7353387"
      },
      "source": [
        "cols = list([\"Severe Wasting\", \"Wasting\", \"Overweight\", \"Stunting\",\"Underweight\"])\n",
        "df_mal[cols].describe().T"
      ],
      "id": "loose-prompt",
      "execution_count": null,
      "outputs": [
        {
          "output_type": "execute_result",
          "data": {
            "text/html": [
              "<div>\n",
              "<style scoped>\n",
              "    .dataframe tbody tr th:only-of-type {\n",
              "        vertical-align: middle;\n",
              "    }\n",
              "\n",
              "    .dataframe tbody tr th {\n",
              "        vertical-align: top;\n",
              "    }\n",
              "\n",
              "    .dataframe thead th {\n",
              "        text-align: right;\n",
              "    }\n",
              "</style>\n",
              "<table border=\"1\" class=\"dataframe\">\n",
              "  <thead>\n",
              "    <tr style=\"text-align: right;\">\n",
              "      <th></th>\n",
              "      <th>count</th>\n",
              "      <th>mean</th>\n",
              "      <th>std</th>\n",
              "      <th>min</th>\n",
              "      <th>25%</th>\n",
              "      <th>50%</th>\n",
              "      <th>75%</th>\n",
              "      <th>max</th>\n",
              "    </tr>\n",
              "  </thead>\n",
              "  <tbody>\n",
              "    <tr>\n",
              "      <th>Severe Wasting</th>\n",
              "      <td>696.0</td>\n",
              "      <td>2.191523</td>\n",
              "      <td>1.912586</td>\n",
              "      <td>0.0</td>\n",
              "      <td>0.800</td>\n",
              "      <td>1.6</td>\n",
              "      <td>2.9</td>\n",
              "      <td>12.9</td>\n",
              "    </tr>\n",
              "    <tr>\n",
              "      <th>Wasting</th>\n",
              "      <td>877.0</td>\n",
              "      <td>6.955644</td>\n",
              "      <td>5.039402</td>\n",
              "      <td>0.0</td>\n",
              "      <td>2.900</td>\n",
              "      <td>5.9</td>\n",
              "      <td>9.7</td>\n",
              "      <td>25.3</td>\n",
              "    </tr>\n",
              "    <tr>\n",
              "      <th>Overweight</th>\n",
              "      <td>788.0</td>\n",
              "      <td>6.434772</td>\n",
              "      <td>4.638849</td>\n",
              "      <td>0.0</td>\n",
              "      <td>2.900</td>\n",
              "      <td>5.5</td>\n",
              "      <td>8.7</td>\n",
              "      <td>30.1</td>\n",
              "    </tr>\n",
              "    <tr>\n",
              "      <th>Stunting</th>\n",
              "      <td>887.0</td>\n",
              "      <td>29.063134</td>\n",
              "      <td>15.834657</td>\n",
              "      <td>0.0</td>\n",
              "      <td>16.650</td>\n",
              "      <td>29.2</td>\n",
              "      <td>40.2</td>\n",
              "      <td>73.6</td>\n",
              "    </tr>\n",
              "    <tr>\n",
              "      <th>Underweight</th>\n",
              "      <td>902.0</td>\n",
              "      <td>15.841242</td>\n",
              "      <td>12.509643</td>\n",
              "      <td>0.0</td>\n",
              "      <td>4.925</td>\n",
              "      <td>13.4</td>\n",
              "      <td>23.1</td>\n",
              "      <td>66.8</td>\n",
              "    </tr>\n",
              "  </tbody>\n",
              "</table>\n",
              "</div>"
            ],
            "text/plain": [
              "                count       mean        std  min     25%   50%   75%   max\n",
              "Severe Wasting  696.0   2.191523   1.912586  0.0   0.800   1.6   2.9  12.9\n",
              "Wasting         877.0   6.955644   5.039402  0.0   2.900   5.9   9.7  25.3\n",
              "Overweight      788.0   6.434772   4.638849  0.0   2.900   5.5   8.7  30.1\n",
              "Stunting        887.0  29.063134  15.834657  0.0  16.650  29.2  40.2  73.6\n",
              "Underweight     902.0  15.841242  12.509643  0.0   4.925  13.4  23.1  66.8"
            ]
          },
          "metadata": {
            "tags": []
          },
          "execution_count": 9
        }
      ]
    },
    {
      "cell_type": "code",
      "metadata": {
        "execution": {
          "iopub.execute_input": "2021-06-17T11:55:35.234876Z",
          "iopub.status.busy": "2021-06-17T11:55:35.234041Z",
          "iopub.status.idle": "2021-06-17T11:55:35.467923Z",
          "shell.execute_reply": "2021-06-17T11:55:35.467369Z",
          "shell.execute_reply.started": "2021-06-08T06:04:59.731431Z"
        },
        "papermill": {
          "duration": 0.268317,
          "end_time": "2021-06-17T11:55:35.468053",
          "exception": false,
          "start_time": "2021-06-17T11:55:35.199736",
          "status": "completed"
        },
        "tags": [],
        "colab": {
          "base_uri": "https://localhost:8080/",
          "height": 241
        },
        "id": "american-greensboro",
        "outputId": "b564fc34-1a3f-44d0-c75f-36388ac87a03"
      },
      "source": [
        "# Filling missing values\n",
        "\n",
        "cols = [\"Severe Wasting\", \"Wasting\", \"Overweight\", \"Stunting\",\"Underweight\"]\n",
        "     \n",
        "for x in cols:\n",
        "    df_mal[x] = df_mal.groupby('Country')[x].transform(lambda grp: grp.fillna(np.mean(grp)))\n",
        "    df_mal[x].fillna(df_mal[x].mean(), inplace=True)\n",
        "# there are two steps, since for some uknown reason groupb+transform couldn't fill all the data\n",
        "# thus the general fillna with mean, to maximise the closeness to the original data\n",
        "\n",
        "df_mal[cols].describe().T\n",
        "# to check the deviation from the original data"
      ],
      "id": "american-greensboro",
      "execution_count": null,
      "outputs": [
        {
          "output_type": "execute_result",
          "data": {
            "text/html": [
              "<div>\n",
              "<style scoped>\n",
              "    .dataframe tbody tr th:only-of-type {\n",
              "        vertical-align: middle;\n",
              "    }\n",
              "\n",
              "    .dataframe tbody tr th {\n",
              "        vertical-align: top;\n",
              "    }\n",
              "\n",
              "    .dataframe thead th {\n",
              "        text-align: right;\n",
              "    }\n",
              "</style>\n",
              "<table border=\"1\" class=\"dataframe\">\n",
              "  <thead>\n",
              "    <tr style=\"text-align: right;\">\n",
              "      <th></th>\n",
              "      <th>count</th>\n",
              "      <th>mean</th>\n",
              "      <th>std</th>\n",
              "      <th>min</th>\n",
              "      <th>25%</th>\n",
              "      <th>50%</th>\n",
              "      <th>75%</th>\n",
              "      <th>max</th>\n",
              "    </tr>\n",
              "  </thead>\n",
              "  <tbody>\n",
              "    <tr>\n",
              "      <th>Severe Wasting</th>\n",
              "      <td>924.0</td>\n",
              "      <td>2.209957</td>\n",
              "      <td>1.793310</td>\n",
              "      <td>0.0</td>\n",
              "      <td>0.900</td>\n",
              "      <td>1.9</td>\n",
              "      <td>2.803409</td>\n",
              "      <td>12.9</td>\n",
              "    </tr>\n",
              "    <tr>\n",
              "      <th>Wasting</th>\n",
              "      <td>924.0</td>\n",
              "      <td>6.956906</td>\n",
              "      <td>5.009191</td>\n",
              "      <td>0.0</td>\n",
              "      <td>2.900</td>\n",
              "      <td>5.9</td>\n",
              "      <td>9.800000</td>\n",
              "      <td>25.3</td>\n",
              "    </tr>\n",
              "    <tr>\n",
              "      <th>Overweight</th>\n",
              "      <td>924.0</td>\n",
              "      <td>6.396381</td>\n",
              "      <td>4.484447</td>\n",
              "      <td>0.0</td>\n",
              "      <td>3.000</td>\n",
              "      <td>5.7</td>\n",
              "      <td>8.600000</td>\n",
              "      <td>30.1</td>\n",
              "    </tr>\n",
              "    <tr>\n",
              "      <th>Stunting</th>\n",
              "      <td>924.0</td>\n",
              "      <td>28.900356</td>\n",
              "      <td>15.784480</td>\n",
              "      <td>0.0</td>\n",
              "      <td>16.475</td>\n",
              "      <td>29.2</td>\n",
              "      <td>40.000000</td>\n",
              "      <td>73.6</td>\n",
              "    </tr>\n",
              "    <tr>\n",
              "      <th>Underweight</th>\n",
              "      <td>924.0</td>\n",
              "      <td>15.700069</td>\n",
              "      <td>12.465795</td>\n",
              "      <td>0.0</td>\n",
              "      <td>4.875</td>\n",
              "      <td>13.3</td>\n",
              "      <td>22.800000</td>\n",
              "      <td>66.8</td>\n",
              "    </tr>\n",
              "  </tbody>\n",
              "</table>\n",
              "</div>"
            ],
            "text/plain": [
              "                count       mean        std  min     25%   50%        75%   max\n",
              "Severe Wasting  924.0   2.209957   1.793310  0.0   0.900   1.9   2.803409  12.9\n",
              "Wasting         924.0   6.956906   5.009191  0.0   2.900   5.9   9.800000  25.3\n",
              "Overweight      924.0   6.396381   4.484447  0.0   3.000   5.7   8.600000  30.1\n",
              "Stunting        924.0  28.900356  15.784480  0.0  16.475  29.2  40.000000  73.6\n",
              "Underweight     924.0  15.700069  12.465795  0.0   4.875  13.3  22.800000  66.8"
            ]
          },
          "metadata": {
            "tags": []
          },
          "execution_count": 10
        }
      ]
    },
    {
      "cell_type": "code",
      "metadata": {
        "execution": {
          "iopub.execute_input": "2021-06-17T11:55:35.558477Z",
          "iopub.status.busy": "2021-06-17T11:55:35.557667Z",
          "iopub.status.idle": "2021-06-17T11:55:35.565497Z",
          "shell.execute_reply": "2021-06-17T11:55:35.565911Z",
          "shell.execute_reply.started": "2021-06-08T06:37:00.676351Z"
        },
        "papermill": {
          "duration": 0.033797,
          "end_time": "2021-06-17T11:55:35.566057",
          "exception": false,
          "start_time": "2021-06-17T11:55:35.532260",
          "status": "completed"
        },
        "tags": [],
        "colab": {
          "base_uri": "https://localhost:8080/"
        },
        "id": "induced-convertible",
        "outputId": "2b96546e-9293-4193-e30c-01c554031572"
      },
      "source": [
        "df_country.isnull().sum()"
      ],
      "id": "induced-convertible",
      "execution_count": null,
      "outputs": [
        {
          "output_type": "execute_result",
          "data": {
            "text/plain": [
              "Country                   0\n",
              "Income Classification     0\n",
              "Severe Wasting           12\n",
              "Wasting                   2\n",
              "Overweight                3\n",
              "Stunting                  1\n",
              "Underweight               2\n",
              "U5 Population ('000s)     0\n",
              "dtype: int64"
            ]
          },
          "metadata": {
            "tags": []
          },
          "execution_count": 11
        }
      ]
    },
    {
      "cell_type": "markdown",
      "metadata": {
        "id": "G0IZdXN-PTJ8"
      },
      "source": [
        "## Handling missing data for country dataset\n",
        "\n",
        "Appproach: Impute with the mean data from the malnutrition dataset to get good low error results. "
      ],
      "id": "G0IZdXN-PTJ8"
    },
    {
      "cell_type": "code",
      "metadata": {
        "execution": {
          "iopub.execute_input": "2021-06-17T11:55:35.614398Z",
          "iopub.status.busy": "2021-06-17T11:55:35.613598Z",
          "iopub.status.idle": "2021-06-17T11:55:35.615879Z",
          "shell.execute_reply": "2021-06-17T11:55:35.616270Z",
          "shell.execute_reply.started": "2021-06-08T06:37:01.832007Z"
        },
        "papermill": {
          "duration": 0.028378,
          "end_time": "2021-06-17T11:55:35.616416",
          "exception": false,
          "start_time": "2021-06-17T11:55:35.588038",
          "status": "completed"
        },
        "tags": [],
        "id": "dress-ferry"
      },
      "source": [
        "country_grp = df_mal.groupby('Country')\n",
        "# country_grp.first()"
      ],
      "id": "dress-ferry",
      "execution_count": null,
      "outputs": []
    },
    {
      "cell_type": "code",
      "metadata": {
        "execution": {
          "iopub.execute_input": "2021-06-17T11:55:35.710914Z",
          "iopub.status.busy": "2021-06-17T11:55:35.710363Z",
          "iopub.status.idle": "2021-06-17T11:55:35.712130Z",
          "shell.execute_reply": "2021-06-17T11:55:35.712516Z",
          "shell.execute_reply.started": "2021-06-08T06:37:10.359664Z"
        },
        "papermill": {
          "duration": 0.029813,
          "end_time": "2021-06-17T11:55:35.712653",
          "exception": false,
          "start_time": "2021-06-17T11:55:35.682840",
          "status": "completed"
        },
        "tags": [],
        "id": "certified-dryer"
      },
      "source": [
        "# Functions for filling the null values\n",
        "# takes value from the df_mal and fill in df_country\n",
        "\n",
        "def null_fill(col_name):\n",
        "    \n",
        "    null_index = df_country[df_country[col_name].isnull()].index.tolist()\n",
        "    \n",
        "    for x_null in null_index:\n",
        "        # print(x_null)\n",
        "        cn = df_country[\"Country\"].iloc[x_null]\n",
        "        # print(cn)\n",
        "        cn_grp = country_grp.get_group(cn)\n",
        "        # print(cn_grp, \"\\n\\n\\n\")\n",
        "        cn_grp_mean = cn_grp[col_name].mean()\n",
        "        # print(cn_grp_mean, \"\\n\\n\\n\")\n",
        "        df_country.loc[x_null,col_name] = cn_grp_mean"
      ],
      "id": "certified-dryer",
      "execution_count": null,
      "outputs": []
    },
    {
      "cell_type": "code",
      "metadata": {
        "execution": {
          "iopub.execute_input": "2021-06-17T11:55:35.759779Z",
          "iopub.status.busy": "2021-06-17T11:55:35.758982Z",
          "iopub.status.idle": "2021-06-17T11:55:35.782701Z",
          "shell.execute_reply": "2021-06-17T11:55:35.783177Z",
          "shell.execute_reply.started": "2021-06-08T06:37:40.356786Z"
        },
        "papermill": {
          "duration": 0.048967,
          "end_time": "2021-06-17T11:55:35.783358",
          "exception": false,
          "start_time": "2021-06-17T11:55:35.734391",
          "status": "completed"
        },
        "tags": [],
        "id": "trained-offer"
      },
      "source": [
        "# funcion caling and filling the data\n",
        "null_fill(\"Severe Wasting\")\n",
        "null_fill('Wasting')\n",
        "null_fill('Overweight')\n",
        "null_fill('Stunting')\n",
        "null_fill('Underweight')\n"
      ],
      "id": "trained-offer",
      "execution_count": null,
      "outputs": []
    },
    {
      "cell_type": "markdown",
      "metadata": {
        "id": "647WNRUqQHWo"
      },
      "source": [
        "# Creating GHI (Globall Hungr Index)\n",
        "\n",
        "\n",
        "*   work on country specific dataset\n",
        "*   variables are ('Severe Wasting' + 'Wasting'), 'Stunting', 'Underweight' --- 33.33% weightage to each\n",
        "*  Scaling of the above variables\n",
        "* calculate ghi (high ghi-bad state and low ghi-good state)\n",
        "\n",
        "\n",
        "\n",
        "\n"
      ],
      "id": "647WNRUqQHWo"
    },
    {
      "cell_type": "code",
      "metadata": {
        "execution": {
          "iopub.execute_input": "2021-06-08T06:36:31.413324Z",
          "iopub.status.busy": "2021-06-08T06:36:31.413022Z",
          "iopub.status.idle": "2021-06-08T06:36:31.42147Z",
          "shell.execute_reply": "2021-06-08T06:36:31.420429Z",
          "shell.execute_reply.started": "2021-06-08T06:36:31.413292Z"
        },
        "papermill": {
          "duration": 0.022319,
          "end_time": "2021-06-17T11:55:35.827871",
          "exception": false,
          "start_time": "2021-06-17T11:55:35.805552",
          "status": "completed"
        },
        "tags": [],
        "id": "loaded-recycling",
        "colab": {
          "base_uri": "https://localhost:8080/"
        },
        "outputId": "3f9de9df-d5fd-4861-c7cb-9c216194fc0c"
      },
      "source": [
        "df_country.columns\n"
      ],
      "id": "loaded-recycling",
      "execution_count": null,
      "outputs": [
        {
          "output_type": "execute_result",
          "data": {
            "text/plain": [
              "Index(['Country', 'Income Classification', 'Severe Wasting', 'Wasting',\n",
              "       'Overweight', 'Stunting', 'Underweight', 'U5 Population ('000s)'],\n",
              "      dtype='object')"
            ]
          },
          "metadata": {
            "tags": []
          },
          "execution_count": 15
        }
      ]
    },
    {
      "cell_type": "code",
      "metadata": {
        "execution": {
          "iopub.execute_input": "2021-06-08T06:36:32.041575Z",
          "iopub.status.busy": "2021-06-08T06:36:32.041307Z",
          "iopub.status.idle": "2021-06-08T06:36:32.049089Z",
          "shell.execute_reply": "2021-06-08T06:36:32.048163Z",
          "shell.execute_reply.started": "2021-06-08T06:36:32.041552Z"
        },
        "papermill": {
          "duration": 0.021388,
          "end_time": "2021-06-17T11:55:35.870872",
          "exception": false,
          "start_time": "2021-06-17T11:55:35.849484",
          "status": "completed"
        },
        "tags": [],
        "id": "labeled-demographic",
        "colab": {
          "base_uri": "https://localhost:8080/"
        },
        "outputId": "33f443d7-3a94-41e4-aa84-f7bc05a518f2"
      },
      "source": [
        "col = ['Country', \"Severe Wasting\",'Wasting', 'Stunting', 'Underweight' ]\n",
        "\n",
        "c_ghi = df_country[col].copy() # without copy, the new dataframe is linked to the original dataframe creating error\n",
        "c_ghi.isnull().sum()"
      ],
      "id": "labeled-demographic",
      "execution_count": null,
      "outputs": [
        {
          "output_type": "execute_result",
          "data": {
            "text/plain": [
              "Country           0\n",
              "Severe Wasting    0\n",
              "Wasting           0\n",
              "Stunting          0\n",
              "Underweight       0\n",
              "dtype: int64"
            ]
          },
          "metadata": {
            "tags": []
          },
          "execution_count": 16
        }
      ]
    },
    {
      "cell_type": "code",
      "metadata": {
        "execution": {
          "iopub.execute_input": "2021-06-08T06:36:32.625131Z",
          "iopub.status.busy": "2021-06-08T06:36:32.624862Z",
          "iopub.status.idle": "2021-06-08T06:36:32.632441Z",
          "shell.execute_reply": "2021-06-08T06:36:32.631415Z",
          "shell.execute_reply.started": "2021-06-08T06:36:32.625108Z"
        },
        "papermill": {
          "duration": 0.021429,
          "end_time": "2021-06-17T11:55:35.914131",
          "exception": false,
          "start_time": "2021-06-17T11:55:35.892702",
          "status": "completed"
        },
        "tags": [],
        "id": "quiet-mustang"
      },
      "source": [
        "# combine severe wasting and wasting\n",
        "c_ghi['severe_wasting'] = c_ghi[\"Severe Wasting\"] + c_ghi['Wasting']"
      ],
      "id": "quiet-mustang",
      "execution_count": null,
      "outputs": []
    },
    {
      "cell_type": "code",
      "metadata": {
        "id": "IyrAhXCnLrRv"
      },
      "source": [
        "scaler = MinMaxScaler()\n",
        "c_ghi[[\"scaled_wasting\", \"scaled_stunting\", \"scaled_underweight\"]] = scaler.fit_transform(c_ghi[['severe_wasting','Stunting', 'Underweight']])"
      ],
      "id": "IyrAhXCnLrRv",
      "execution_count": null,
      "outputs": []
    },
    {
      "cell_type": "code",
      "metadata": {
        "execution": {
          "iopub.execute_input": "2021-06-08T06:36:34.332131Z",
          "iopub.status.busy": "2021-06-08T06:36:34.331862Z",
          "iopub.status.idle": "2021-06-08T06:36:34.338184Z",
          "shell.execute_reply": "2021-06-08T06:36:34.337188Z",
          "shell.execute_reply.started": "2021-06-08T06:36:34.332108Z"
        },
        "papermill": {
          "duration": 0.021484,
          "end_time": "2021-06-17T11:55:35.957997",
          "exception": false,
          "start_time": "2021-06-17T11:55:35.936513",
          "status": "completed"
        },
        "tags": [],
        "id": "constant-haven",
        "colab": {
          "base_uri": "https://localhost:8080/",
          "height": 541
        },
        "outputId": "324c33ce-a8b1-46e8-a0b5-785b95a984d3"
      },
      "source": [
        "#ri.drop('county_name',axis='columns', inplace=True)\n",
        "c_ghi.drop(columns = [\"Severe Wasting\", 'Wasting', 'Stunting', 'Underweight', 'severe_wasting'], inplace = True)\n",
        "c_ghi"
      ],
      "id": "constant-haven",
      "execution_count": null,
      "outputs": [
        {
          "output_type": "execute_result",
          "data": {
            "text/html": [
              "<div>\n",
              "<style scoped>\n",
              "    .dataframe tbody tr th:only-of-type {\n",
              "        vertical-align: middle;\n",
              "    }\n",
              "\n",
              "    .dataframe tbody tr th {\n",
              "        vertical-align: top;\n",
              "    }\n",
              "\n",
              "    .dataframe thead th {\n",
              "        text-align: right;\n",
              "    }\n",
              "</style>\n",
              "<table border=\"1\" class=\"dataframe\">\n",
              "  <thead>\n",
              "    <tr style=\"text-align: right;\">\n",
              "      <th></th>\n",
              "      <th>Country</th>\n",
              "      <th>scaled_wasting</th>\n",
              "      <th>scaled_stunting</th>\n",
              "      <th>scaled_underweight</th>\n",
              "    </tr>\n",
              "  </thead>\n",
              "  <tbody>\n",
              "    <tr>\n",
              "      <th>0</th>\n",
              "      <td>AFGHANISTAN</td>\n",
              "      <td>0.381835</td>\n",
              "      <td>0.826413</td>\n",
              "      <td>0.655776</td>\n",
              "    </tr>\n",
              "    <tr>\n",
              "      <th>1</th>\n",
              "      <td>ALBANIA</td>\n",
              "      <td>0.337660</td>\n",
              "      <td>0.409187</td>\n",
              "      <td>0.164621</td>\n",
              "    </tr>\n",
              "    <tr>\n",
              "      <th>2</th>\n",
              "      <td>ALGERIA</td>\n",
              "      <td>0.247538</td>\n",
              "      <td>0.328117</td>\n",
              "      <td>0.156885</td>\n",
              "    </tr>\n",
              "    <tr>\n",
              "      <th>3</th>\n",
              "      <td>ANGOLA</td>\n",
              "      <td>0.266286</td>\n",
              "      <td>0.735571</td>\n",
              "      <td>0.509025</td>\n",
              "    </tr>\n",
              "    <tr>\n",
              "      <th>4</th>\n",
              "      <td>ARGENTINA</td>\n",
              "      <td>0.067047</td>\n",
              "      <td>0.159452</td>\n",
              "      <td>0.054152</td>\n",
              "    </tr>\n",
              "    <tr>\n",
              "      <th>...</th>\n",
              "      <td>...</td>\n",
              "      <td>...</td>\n",
              "      <td>...</td>\n",
              "      <td>...</td>\n",
              "    </tr>\n",
              "    <tr>\n",
              "      <th>147</th>\n",
              "      <td>VENEZUELA (BOLIVARIAN REPUBLIC OF)</td>\n",
              "      <td>0.186684</td>\n",
              "      <td>0.281928</td>\n",
              "      <td>0.089737</td>\n",
              "    </tr>\n",
              "    <tr>\n",
              "      <th>148</th>\n",
              "      <td>VIET NAM</td>\n",
              "      <td>0.313642</td>\n",
              "      <td>0.599341</td>\n",
              "      <td>0.494257</td>\n",
              "    </tr>\n",
              "    <tr>\n",
              "      <th>149</th>\n",
              "      <td>YEMEN</td>\n",
              "      <td>0.586101</td>\n",
              "      <td>0.899293</td>\n",
              "      <td>0.816297</td>\n",
              "    </tr>\n",
              "    <tr>\n",
              "      <th>150</th>\n",
              "      <td>ZAMBIA</td>\n",
              "      <td>0.216426</td>\n",
              "      <td>0.832818</td>\n",
              "      <td>0.385250</td>\n",
              "    </tr>\n",
              "    <tr>\n",
              "      <th>151</th>\n",
              "      <td>ZIMBABWE</td>\n",
              "      <td>0.158504</td>\n",
              "      <td>0.520416</td>\n",
              "      <td>0.229819</td>\n",
              "    </tr>\n",
              "  </tbody>\n",
              "</table>\n",
              "<p>152 rows × 4 columns</p>\n",
              "</div>"
            ],
            "text/plain": [
              "                                Country  ...  scaled_underweight\n",
              "0                           AFGHANISTAN  ...            0.655776\n",
              "1                               ALBANIA  ...            0.164621\n",
              "2                               ALGERIA  ...            0.156885\n",
              "3                                ANGOLA  ...            0.509025\n",
              "4                             ARGENTINA  ...            0.054152\n",
              "..                                  ...  ...                 ...\n",
              "147  VENEZUELA (BOLIVARIAN REPUBLIC OF)  ...            0.089737\n",
              "148                            VIET NAM  ...            0.494257\n",
              "149                               YEMEN  ...            0.816297\n",
              "150                              ZAMBIA  ...            0.385250\n",
              "151                            ZIMBABWE  ...            0.229819\n",
              "\n",
              "[152 rows x 4 columns]"
            ]
          },
          "metadata": {
            "tags": []
          },
          "execution_count": 19
        }
      ]
    },
    {
      "cell_type": "code",
      "metadata": {
        "papermill": {
          "duration": 0.02141,
          "end_time": "2021-06-17T11:55:36.001155",
          "exception": false,
          "start_time": "2021-06-17T11:55:35.979745",
          "status": "completed"
        },
        "tags": [],
        "id": "challenging-mortality",
        "colab": {
          "base_uri": "https://localhost:8080/",
          "height": 541
        },
        "outputId": "6b657635-8ce1-4b97-f3e8-23f591c8b437"
      },
      "source": [
        "# calculating GHI\n",
        "c_ghi['ghi'] = (c_ghi['scaled_wasting'] + c_ghi['scaled_stunting'] + c_ghi['scaled_underweight'])/3*100\n",
        "c_ghi['ghi']= round(c_ghi['ghi'])\n",
        "c_ghi"
      ],
      "id": "challenging-mortality",
      "execution_count": null,
      "outputs": [
        {
          "output_type": "execute_result",
          "data": {
            "text/html": [
              "<div>\n",
              "<style scoped>\n",
              "    .dataframe tbody tr th:only-of-type {\n",
              "        vertical-align: middle;\n",
              "    }\n",
              "\n",
              "    .dataframe tbody tr th {\n",
              "        vertical-align: top;\n",
              "    }\n",
              "\n",
              "    .dataframe thead th {\n",
              "        text-align: right;\n",
              "    }\n",
              "</style>\n",
              "<table border=\"1\" class=\"dataframe\">\n",
              "  <thead>\n",
              "    <tr style=\"text-align: right;\">\n",
              "      <th></th>\n",
              "      <th>Country</th>\n",
              "      <th>scaled_wasting</th>\n",
              "      <th>scaled_stunting</th>\n",
              "      <th>scaled_underweight</th>\n",
              "      <th>ghi</th>\n",
              "    </tr>\n",
              "  </thead>\n",
              "  <tbody>\n",
              "    <tr>\n",
              "      <th>0</th>\n",
              "      <td>AFGHANISTAN</td>\n",
              "      <td>0.381835</td>\n",
              "      <td>0.826413</td>\n",
              "      <td>0.655776</td>\n",
              "      <td>62.0</td>\n",
              "    </tr>\n",
              "    <tr>\n",
              "      <th>1</th>\n",
              "      <td>ALBANIA</td>\n",
              "      <td>0.337660</td>\n",
              "      <td>0.409187</td>\n",
              "      <td>0.164621</td>\n",
              "      <td>30.0</td>\n",
              "    </tr>\n",
              "    <tr>\n",
              "      <th>2</th>\n",
              "      <td>ALGERIA</td>\n",
              "      <td>0.247538</td>\n",
              "      <td>0.328117</td>\n",
              "      <td>0.156885</td>\n",
              "      <td>24.0</td>\n",
              "    </tr>\n",
              "    <tr>\n",
              "      <th>3</th>\n",
              "      <td>ANGOLA</td>\n",
              "      <td>0.266286</td>\n",
              "      <td>0.735571</td>\n",
              "      <td>0.509025</td>\n",
              "      <td>50.0</td>\n",
              "    </tr>\n",
              "    <tr>\n",
              "      <th>4</th>\n",
              "      <td>ARGENTINA</td>\n",
              "      <td>0.067047</td>\n",
              "      <td>0.159452</td>\n",
              "      <td>0.054152</td>\n",
              "      <td>9.0</td>\n",
              "    </tr>\n",
              "    <tr>\n",
              "      <th>...</th>\n",
              "      <td>...</td>\n",
              "      <td>...</td>\n",
              "      <td>...</td>\n",
              "      <td>...</td>\n",
              "      <td>...</td>\n",
              "    </tr>\n",
              "    <tr>\n",
              "      <th>147</th>\n",
              "      <td>VENEZUELA (BOLIVARIAN REPUBLIC OF)</td>\n",
              "      <td>0.186684</td>\n",
              "      <td>0.281928</td>\n",
              "      <td>0.089737</td>\n",
              "      <td>19.0</td>\n",
              "    </tr>\n",
              "    <tr>\n",
              "      <th>148</th>\n",
              "      <td>VIET NAM</td>\n",
              "      <td>0.313642</td>\n",
              "      <td>0.599341</td>\n",
              "      <td>0.494257</td>\n",
              "      <td>47.0</td>\n",
              "    </tr>\n",
              "    <tr>\n",
              "      <th>149</th>\n",
              "      <td>YEMEN</td>\n",
              "      <td>0.586101</td>\n",
              "      <td>0.899293</td>\n",
              "      <td>0.816297</td>\n",
              "      <td>77.0</td>\n",
              "    </tr>\n",
              "    <tr>\n",
              "      <th>150</th>\n",
              "      <td>ZAMBIA</td>\n",
              "      <td>0.216426</td>\n",
              "      <td>0.832818</td>\n",
              "      <td>0.385250</td>\n",
              "      <td>48.0</td>\n",
              "    </tr>\n",
              "    <tr>\n",
              "      <th>151</th>\n",
              "      <td>ZIMBABWE</td>\n",
              "      <td>0.158504</td>\n",
              "      <td>0.520416</td>\n",
              "      <td>0.229819</td>\n",
              "      <td>30.0</td>\n",
              "    </tr>\n",
              "  </tbody>\n",
              "</table>\n",
              "<p>152 rows × 5 columns</p>\n",
              "</div>"
            ],
            "text/plain": [
              "                                Country  ...   ghi\n",
              "0                           AFGHANISTAN  ...  62.0\n",
              "1                               ALBANIA  ...  30.0\n",
              "2                               ALGERIA  ...  24.0\n",
              "3                                ANGOLA  ...  50.0\n",
              "4                             ARGENTINA  ...   9.0\n",
              "..                                  ...  ...   ...\n",
              "147  VENEZUELA (BOLIVARIAN REPUBLIC OF)  ...  19.0\n",
              "148                            VIET NAM  ...  47.0\n",
              "149                               YEMEN  ...  77.0\n",
              "150                              ZAMBIA  ...  48.0\n",
              "151                            ZIMBABWE  ...  30.0\n",
              "\n",
              "[152 rows x 5 columns]"
            ]
          },
          "metadata": {
            "tags": []
          },
          "execution_count": 20
        }
      ]
    },
    {
      "cell_type": "code",
      "metadata": {
        "papermill": {
          "duration": 0.021513,
          "end_time": "2021-06-17T11:55:36.130612",
          "exception": false,
          "start_time": "2021-06-17T11:55:36.109099",
          "status": "completed"
        },
        "tags": [],
        "id": "hawaiian-ministry",
        "colab": {
          "base_uri": "https://localhost:8080/",
          "height": 606
        },
        "outputId": "21eb324a-fa8c-4199-8a90-ec7c736e633f"
      },
      "source": [
        "c_ghi.set_index('ghi', inplace = True)\n",
        "c_ghi.sort_index(inplace = True)\n",
        "c_ghi"
      ],
      "id": "hawaiian-ministry",
      "execution_count": null,
      "outputs": [
        {
          "output_type": "execute_result",
          "data": {
            "text/html": [
              "<div>\n",
              "<style scoped>\n",
              "    .dataframe tbody tr th:only-of-type {\n",
              "        vertical-align: middle;\n",
              "    }\n",
              "\n",
              "    .dataframe tbody tr th {\n",
              "        vertical-align: top;\n",
              "    }\n",
              "\n",
              "    .dataframe thead th {\n",
              "        text-align: right;\n",
              "    }\n",
              "</style>\n",
              "<table border=\"1\" class=\"dataframe\">\n",
              "  <thead>\n",
              "    <tr style=\"text-align: right;\">\n",
              "      <th></th>\n",
              "      <th>Country</th>\n",
              "      <th>scaled_wasting</th>\n",
              "      <th>scaled_stunting</th>\n",
              "      <th>scaled_underweight</th>\n",
              "    </tr>\n",
              "    <tr>\n",
              "      <th>ghi</th>\n",
              "      <th></th>\n",
              "      <th></th>\n",
              "      <th></th>\n",
              "      <th></th>\n",
              "    </tr>\n",
              "  </thead>\n",
              "  <tbody>\n",
              "    <tr>\n",
              "      <th>0.0</th>\n",
              "      <td>AUSTRALIA</td>\n",
              "      <td>0.000000</td>\n",
              "      <td>0.000000</td>\n",
              "      <td>0.000000</td>\n",
              "    </tr>\n",
              "    <tr>\n",
              "      <th>2.0</th>\n",
              "      <td>GERMANY</td>\n",
              "      <td>0.021398</td>\n",
              "      <td>0.008834</td>\n",
              "      <td>0.015162</td>\n",
              "    </tr>\n",
              "    <tr>\n",
              "      <th>2.0</th>\n",
              "      <td>UNITED STATES OF AMERICA (THE)</td>\n",
              "      <td>0.015814</td>\n",
              "      <td>0.033821</td>\n",
              "      <td>0.016895</td>\n",
              "    </tr>\n",
              "    <tr>\n",
              "      <th>3.0</th>\n",
              "      <td>REPUBLIC OF KOREA (THE)</td>\n",
              "      <td>0.034237</td>\n",
              "      <td>0.026502</td>\n",
              "      <td>0.015162</td>\n",
              "    </tr>\n",
              "    <tr>\n",
              "      <th>4.0</th>\n",
              "      <td>CHILE</td>\n",
              "      <td>0.076366</td>\n",
              "      <td>0.043345</td>\n",
              "      <td>0.014007</td>\n",
              "    </tr>\n",
              "    <tr>\n",
              "      <th>...</th>\n",
              "      <td>...</td>\n",
              "      <td>...</td>\n",
              "      <td>...</td>\n",
              "      <td>...</td>\n",
              "    </tr>\n",
              "    <tr>\n",
              "      <th>76.0</th>\n",
              "      <td>ERITREA</td>\n",
              "      <td>0.548740</td>\n",
              "      <td>0.922703</td>\n",
              "      <td>0.811191</td>\n",
              "    </tr>\n",
              "    <tr>\n",
              "      <th>77.0</th>\n",
              "      <td>YEMEN</td>\n",
              "      <td>0.586101</td>\n",
              "      <td>0.899293</td>\n",
              "      <td>0.816297</td>\n",
              "    </tr>\n",
              "    <tr>\n",
              "      <th>81.0</th>\n",
              "      <td>BANGLADESH</td>\n",
              "      <td>0.495040</td>\n",
              "      <td>0.940445</td>\n",
              "      <td>1.000000</td>\n",
              "    </tr>\n",
              "    <tr>\n",
              "      <th>82.0</th>\n",
              "      <td>TIMOR-LESTE</td>\n",
              "      <td>0.581883</td>\n",
              "      <td>0.960777</td>\n",
              "      <td>0.924910</td>\n",
              "    </tr>\n",
              "    <tr>\n",
              "      <th>83.0</th>\n",
              "      <td>INDIA</td>\n",
              "      <td>0.709938</td>\n",
              "      <td>0.849038</td>\n",
              "      <td>0.928761</td>\n",
              "    </tr>\n",
              "  </tbody>\n",
              "</table>\n",
              "<p>152 rows × 4 columns</p>\n",
              "</div>"
            ],
            "text/plain": [
              "                             Country  ...  scaled_underweight\n",
              "ghi                                   ...                    \n",
              "0.0                        AUSTRALIA  ...            0.000000\n",
              "2.0                          GERMANY  ...            0.015162\n",
              "2.0   UNITED STATES OF AMERICA (THE)  ...            0.016895\n",
              "3.0          REPUBLIC OF KOREA (THE)  ...            0.015162\n",
              "4.0                            CHILE  ...            0.014007\n",
              "...                              ...  ...                 ...\n",
              "76.0                         ERITREA  ...            0.811191\n",
              "77.0                           YEMEN  ...            0.816297\n",
              "81.0                      BANGLADESH  ...            1.000000\n",
              "82.0                     TIMOR-LESTE  ...            0.924910\n",
              "83.0                           INDIA  ...            0.928761\n",
              "\n",
              "[152 rows x 4 columns]"
            ]
          },
          "metadata": {
            "tags": []
          },
          "execution_count": 21
        }
      ]
    },
    {
      "cell_type": "code",
      "metadata": {
        "colab": {
          "base_uri": "https://localhost:8080/"
        },
        "id": "ZYq5VCfVFrz3",
        "outputId": "17a880e1-4fc4-4685-a776-530280269d6d"
      },
      "source": [
        "print(c_ghi['Country'].head(3).to_list())\n",
        "print(c_ghi['Country'].tail(3).to_list())"
      ],
      "id": "ZYq5VCfVFrz3",
      "execution_count": null,
      "outputs": [
        {
          "output_type": "stream",
          "text": [
            "['AUSTRALIA', 'GERMANY', 'UNITED STATES OF AMERICA (THE)']\n",
            "['BANGLADESH', 'TIMOR-LESTE', 'INDIA']\n"
          ],
          "name": "stdout"
        }
      ]
    },
    {
      "cell_type": "markdown",
      "metadata": {
        "id": "rFSSt9xnGbri"
      },
      "source": [
        "# Exploration of \n",
        "* ['AUSTRALIA', 'GERMANY', 'UNITED STATES OF AMERICA (THE)']\n",
        "* ['BANGLADESH', 'TIMOR-LESTE', 'INDIA']"
      ],
      "id": "rFSSt9xnGbri"
    },
    {
      "cell_type": "markdown",
      "metadata": {
        "id": "fC198iz-Z_Ff"
      },
      "source": [
        "Ideas: \n",
        "* Expore India and Australia\n",
        "* over year changes with parameter\n",
        "* Income group changes with parameters\n",
        "* explore: Low Income Food Deficient (LIFD)(true=1,\n",
        "false=0) , Least Developed Countries (LDC)(true=1, false=0)\n",
        "\n"
      ],
      "id": "fC198iz-Z_Ff"
    },
    {
      "cell_type": "markdown",
      "metadata": {
        "id": "oaXLuYnY94nv"
      },
      "source": [
        "## Grouping of the malnutrition data based on country"
      ],
      "id": "oaXLuYnY94nv"
    },
    {
      "cell_type": "code",
      "metadata": {
        "id": "VwQjKKbg-h0t"
      },
      "source": [
        "# Unwanted columns have been removed already\n",
        "df_mal"
      ],
      "id": "VwQjKKbg-h0t",
      "execution_count": null,
      "outputs": []
    },
    {
      "cell_type": "code",
      "metadata": {
        "id": "o33g3PJ7CNo3",
        "colab": {
          "base_uri": "https://localhost:8080/",
          "height": 170
        },
        "outputId": "92c3f5fd-c04f-4be3-f95f-e810b396fd18"
      },
      "source": [
        "india = df_mal.groupby(['Country']).get_group('INDIA')\n",
        "india.reset_index()\n",
        "\n",
        "australia = df_mal.groupby(['Country']).get_group('AUSTRALIA')\n",
        "australia.reset_index()"
      ],
      "id": "o33g3PJ7CNo3",
      "execution_count": null,
      "outputs": [
        {
          "output_type": "execute_result",
          "data": {
            "text/html": [
              "<div>\n",
              "<style scoped>\n",
              "    .dataframe tbody tr th:only-of-type {\n",
              "        vertical-align: middle;\n",
              "    }\n",
              "\n",
              "    .dataframe tbody tr th {\n",
              "        vertical-align: top;\n",
              "    }\n",
              "\n",
              "    .dataframe thead th {\n",
              "        text-align: right;\n",
              "    }\n",
              "</style>\n",
              "<table border=\"1\" class=\"dataframe\">\n",
              "  <thead>\n",
              "    <tr style=\"text-align: right;\">\n",
              "      <th></th>\n",
              "      <th>index</th>\n",
              "      <th>Country</th>\n",
              "      <th>Year</th>\n",
              "      <th>Income Classification</th>\n",
              "      <th>LDC</th>\n",
              "      <th>LIFD</th>\n",
              "      <th>LLDC or SID2</th>\n",
              "      <th>Survey Sample (N)</th>\n",
              "      <th>Severe Wasting</th>\n",
              "      <th>Wasting</th>\n",
              "      <th>Overweight</th>\n",
              "      <th>Stunting</th>\n",
              "      <th>Underweight</th>\n",
              "      <th>U5 Population ('000s)</th>\n",
              "    </tr>\n",
              "  </thead>\n",
              "  <tbody>\n",
              "    <tr>\n",
              "      <th>0</th>\n",
              "      <td>28</td>\n",
              "      <td>AUSTRALIA</td>\n",
              "      <td>1995</td>\n",
              "      <td>3</td>\n",
              "      <td>0.0</td>\n",
              "      <td>0.0</td>\n",
              "      <td>0.0</td>\n",
              "      <td>1036810</td>\n",
              "      <td>0.0</td>\n",
              "      <td>0.0</td>\n",
              "      <td>7.9</td>\n",
              "      <td>0.0</td>\n",
              "      <td>0.0</td>\n",
              "      <td>1297.817</td>\n",
              "    </tr>\n",
              "    <tr>\n",
              "      <th>1</th>\n",
              "      <td>29</td>\n",
              "      <td>AUSTRALIA</td>\n",
              "      <td>2007</td>\n",
              "      <td>3</td>\n",
              "      <td>0.0</td>\n",
              "      <td>0.0</td>\n",
              "      <td>0.0</td>\n",
              "      <td>1007</td>\n",
              "      <td>0.0</td>\n",
              "      <td>0.0</td>\n",
              "      <td>7.7</td>\n",
              "      <td>2.0</td>\n",
              "      <td>0.2</td>\n",
              "      <td>1328.020</td>\n",
              "    </tr>\n",
              "    <tr>\n",
              "      <th>2</th>\n",
              "      <td>30</td>\n",
              "      <td>AUSTRALIA</td>\n",
              "      <td>2014</td>\n",
              "      <td>3</td>\n",
              "      <td>0.0</td>\n",
              "      <td>0.0</td>\n",
              "      <td>0.0</td>\n",
              "      <td>0</td>\n",
              "      <td>0.0</td>\n",
              "      <td>0.0</td>\n",
              "      <td>17.9</td>\n",
              "      <td>1.0</td>\n",
              "      <td>0.1</td>\n",
              "      <td>1551.012</td>\n",
              "    </tr>\n",
              "    <tr>\n",
              "      <th>3</th>\n",
              "      <td>31</td>\n",
              "      <td>AUSTRALIA</td>\n",
              "      <td>2017</td>\n",
              "      <td>3</td>\n",
              "      <td>0.0</td>\n",
              "      <td>0.0</td>\n",
              "      <td>0.0</td>\n",
              "      <td>0</td>\n",
              "      <td>0.0</td>\n",
              "      <td>0.0</td>\n",
              "      <td>22.0</td>\n",
              "      <td>1.0</td>\n",
              "      <td>0.1</td>\n",
              "      <td>1595.449</td>\n",
              "    </tr>\n",
              "  </tbody>\n",
              "</table>\n",
              "</div>"
            ],
            "text/plain": [
              "   index    Country  Year  ...  Stunting  Underweight  U5 Population ('000s)\n",
              "0     28  AUSTRALIA  1995  ...       0.0          0.0               1297.817\n",
              "1     29  AUSTRALIA  2007  ...       2.0          0.2               1328.020\n",
              "2     30  AUSTRALIA  2014  ...       1.0          0.1               1551.012\n",
              "3     31  AUSTRALIA  2017  ...       1.0          0.1               1595.449\n",
              "\n",
              "[4 rows x 14 columns]"
            ]
          },
          "metadata": {
            "tags": []
          },
          "execution_count": 87
        }
      ]
    },
    {
      "cell_type": "code",
      "metadata": {
        "id": "sXc1Baq0uEe5",
        "colab": {
          "base_uri": "https://localhost:8080/",
          "height": 362
        },
        "outputId": "575ad45f-9609-4475-d12f-c02fad4f3df4"
      },
      "source": [
        "india"
      ],
      "id": "sXc1Baq0uEe5",
      "execution_count": null,
      "outputs": [
        {
          "output_type": "execute_result",
          "data": {
            "text/html": [
              "<div>\n",
              "<style scoped>\n",
              "    .dataframe tbody tr th:only-of-type {\n",
              "        vertical-align: middle;\n",
              "    }\n",
              "\n",
              "    .dataframe tbody tr th {\n",
              "        vertical-align: top;\n",
              "    }\n",
              "\n",
              "    .dataframe thead th {\n",
              "        text-align: right;\n",
              "    }\n",
              "</style>\n",
              "<table border=\"1\" class=\"dataframe\">\n",
              "  <thead>\n",
              "    <tr style=\"text-align: right;\">\n",
              "      <th></th>\n",
              "      <th>Country</th>\n",
              "      <th>Year</th>\n",
              "      <th>Income Classification</th>\n",
              "      <th>LDC</th>\n",
              "      <th>LIFD</th>\n",
              "      <th>LLDC or SID2</th>\n",
              "      <th>Survey Sample (N)</th>\n",
              "      <th>Severe Wasting</th>\n",
              "      <th>Wasting</th>\n",
              "      <th>Overweight</th>\n",
              "      <th>Stunting</th>\n",
              "      <th>Underweight</th>\n",
              "      <th>U5 Population ('000s)</th>\n",
              "    </tr>\n",
              "  </thead>\n",
              "  <tbody>\n",
              "    <tr>\n",
              "      <th>340</th>\n",
              "      <td>INDIA</td>\n",
              "      <td>1989</td>\n",
              "      <td>1</td>\n",
              "      <td>0.0</td>\n",
              "      <td>1.0</td>\n",
              "      <td>0.0</td>\n",
              "      <td>13548</td>\n",
              "      <td>6.116667</td>\n",
              "      <td>20.3</td>\n",
              "      <td>2.933333</td>\n",
              "      <td>62.7</td>\n",
              "      <td>55.5</td>\n",
              "      <td>121226.737</td>\n",
              "    </tr>\n",
              "    <tr>\n",
              "      <th>341</th>\n",
              "      <td>INDIA</td>\n",
              "      <td>1992</td>\n",
              "      <td>1</td>\n",
              "      <td>0.0</td>\n",
              "      <td>1.0</td>\n",
              "      <td>0.0</td>\n",
              "      <td>2948</td>\n",
              "      <td>6.116667</td>\n",
              "      <td>20.0</td>\n",
              "      <td>2.933333</td>\n",
              "      <td>61.9</td>\n",
              "      <td>52.8</td>\n",
              "      <td>123144.679</td>\n",
              "    </tr>\n",
              "    <tr>\n",
              "      <th>342</th>\n",
              "      <td>INDIA</td>\n",
              "      <td>1993</td>\n",
              "      <td>1</td>\n",
              "      <td>0.0</td>\n",
              "      <td>1.0</td>\n",
              "      <td>0.0</td>\n",
              "      <td>38418</td>\n",
              "      <td>7.000000</td>\n",
              "      <td>19.9</td>\n",
              "      <td>2.900000</td>\n",
              "      <td>57.7</td>\n",
              "      <td>51.2</td>\n",
              "      <td>123695.199</td>\n",
              "    </tr>\n",
              "    <tr>\n",
              "      <th>343</th>\n",
              "      <td>INDIA</td>\n",
              "      <td>1997</td>\n",
              "      <td>1</td>\n",
              "      <td>0.0</td>\n",
              "      <td>1.0</td>\n",
              "      <td>0.0</td>\n",
              "      <td>22959</td>\n",
              "      <td>6.116667</td>\n",
              "      <td>18.4</td>\n",
              "      <td>5.900000</td>\n",
              "      <td>45.9</td>\n",
              "      <td>38.4</td>\n",
              "      <td>126145.646</td>\n",
              "    </tr>\n",
              "    <tr>\n",
              "      <th>344</th>\n",
              "      <td>INDIA</td>\n",
              "      <td>1999</td>\n",
              "      <td>1</td>\n",
              "      <td>0.0</td>\n",
              "      <td>1.0</td>\n",
              "      <td>0.0</td>\n",
              "      <td>26403</td>\n",
              "      <td>5.700000</td>\n",
              "      <td>17.1</td>\n",
              "      <td>2.900000</td>\n",
              "      <td>54.2</td>\n",
              "      <td>46.3</td>\n",
              "      <td>127300.714</td>\n",
              "    </tr>\n",
              "    <tr>\n",
              "      <th>345</th>\n",
              "      <td>INDIA</td>\n",
              "      <td>2006</td>\n",
              "      <td>1</td>\n",
              "      <td>0.0</td>\n",
              "      <td>1.0</td>\n",
              "      <td>0.0</td>\n",
              "      <td>49149</td>\n",
              "      <td>6.800000</td>\n",
              "      <td>20.0</td>\n",
              "      <td>1.900000</td>\n",
              "      <td>47.8</td>\n",
              "      <td>43.5</td>\n",
              "      <td>129784.914</td>\n",
              "    </tr>\n",
              "    <tr>\n",
              "      <th>346</th>\n",
              "      <td>INDIA</td>\n",
              "      <td>2014</td>\n",
              "      <td>1</td>\n",
              "      <td>0.0</td>\n",
              "      <td>1.0</td>\n",
              "      <td>0.0</td>\n",
              "      <td>91273</td>\n",
              "      <td>4.600000</td>\n",
              "      <td>15.1</td>\n",
              "      <td>2.933333</td>\n",
              "      <td>38.7</td>\n",
              "      <td>29.4</td>\n",
              "      <td>120676.724</td>\n",
              "    </tr>\n",
              "    <tr>\n",
              "      <th>347</th>\n",
              "      <td>INDIA</td>\n",
              "      <td>2015</td>\n",
              "      <td>1</td>\n",
              "      <td>0.0</td>\n",
              "      <td>1.0</td>\n",
              "      <td>0.0</td>\n",
              "      <td>230488</td>\n",
              "      <td>7.700000</td>\n",
              "      <td>20.8</td>\n",
              "      <td>2.400000</td>\n",
              "      <td>37.9</td>\n",
              "      <td>36.3</td>\n",
              "      <td>118983.308</td>\n",
              "    </tr>\n",
              "    <tr>\n",
              "      <th>348</th>\n",
              "      <td>INDIA</td>\n",
              "      <td>2017</td>\n",
              "      <td>1</td>\n",
              "      <td>0.0</td>\n",
              "      <td>1.0</td>\n",
              "      <td>0.0</td>\n",
              "      <td>0</td>\n",
              "      <td>4.900000</td>\n",
              "      <td>17.3</td>\n",
              "      <td>1.600000</td>\n",
              "      <td>34.7</td>\n",
              "      <td>33.4</td>\n",
              "      <td>116172.498</td>\n",
              "    </tr>\n",
              "  </tbody>\n",
              "</table>\n",
              "</div>"
            ],
            "text/plain": [
              "    Country  Year  ...  Underweight  U5 Population ('000s)\n",
              "340   INDIA  1989  ...         55.5             121226.737\n",
              "341   INDIA  1992  ...         52.8             123144.679\n",
              "342   INDIA  1993  ...         51.2             123695.199\n",
              "343   INDIA  1997  ...         38.4             126145.646\n",
              "344   INDIA  1999  ...         46.3             127300.714\n",
              "345   INDIA  2006  ...         43.5             129784.914\n",
              "346   INDIA  2014  ...         29.4             120676.724\n",
              "347   INDIA  2015  ...         36.3             118983.308\n",
              "348   INDIA  2017  ...         33.4             116172.498\n",
              "\n",
              "[9 rows x 13 columns]"
            ]
          },
          "metadata": {
            "tags": []
          },
          "execution_count": 76
        }
      ]
    },
    {
      "cell_type": "markdown",
      "metadata": {
        "id": "HqJmo3n-DefZ"
      },
      "source": [
        "## over the year changes in parameters"
      ],
      "id": "HqJmo3n-DefZ"
    },
    {
      "cell_type": "markdown",
      "metadata": {
        "id": "JAGjn_R2Gwag"
      },
      "source": [
        "fig = plt.figure(figsize =(10,5) )\n",
        "fig.suptitle('Parameter Changes over the Years')\n",
        "\n",
        "* subplot #1\n",
        "plt.subplot(151)\n",
        "plt.title('Wasting')\n",
        "sns.barplot(x=\"Year\", y=\"Severe Wasting\", data=india)\n",
        "\n",
        "* subplot #2\n",
        "plt.subplot(152)\n",
        "plt.title('Wasting')\n",
        "sns.barplot(x=\"Year\", y=\"Wasting\", data=india)\n",
        "\n"
      ],
      "id": "JAGjn_R2Gwag"
    },
    {
      "cell_type": "code",
      "metadata": {
        "colab": {
          "base_uri": "https://localhost:8080/",
          "height": 695
        },
        "id": "HgkucEfZ8l0q",
        "outputId": "59eb505a-ee89-438c-ad6d-b63455836afd"
      },
      "source": [
        "fig, axes = plt.subplots(5,1, figsize=(5, 10), sharex = True)\n",
        "fig.suptitle('Parameter Changes over the Years')\n",
        "\n",
        "# Severe Wasting\n",
        "sns.barplot(ax = axes[0], x=\"Year\", y=\"Severe Wasting\", data=india)\n",
        "\n",
        "# Wasting\n",
        "sns.barplot(ax = axes[1], x=\"Year\", y=\"Wasting\", data=india)\n",
        "\n",
        "# Overweight\n",
        "sns.barplot(ax = axes[2], x=\"Year\", y=\"Overweight\", data=india)\n",
        "\n",
        "# Underweight\n",
        "sns.barplot(ax = axes[3], x=\"Year\", y=\"Underweight\", data=india)\n",
        "\n",
        "# Stunting\n",
        "sns.barplot(ax = axes[4], x=\"Year\", y=\"Stunting\", data=india)\n",
        "\n",
        "# combining all together\n",
        "# india.plot(x=\"Year\", y=[\"Severe Wasting\",\t\"Wasting\", \"Overweight\",\t\"Stunting\",\t\"Underweight\"], kind=\"bar\", figsize =(8,5), title = \"Parameter Changes over the Years\")"
      ],
      "id": "HgkucEfZ8l0q",
      "execution_count": null,
      "outputs": [
        {
          "output_type": "execute_result",
          "data": {
            "text/plain": [
              "<matplotlib.axes._subplots.AxesSubplot at 0x7f6e52f255d0>"
            ]
          },
          "metadata": {
            "tags": []
          },
          "execution_count": 74
        },
        {
          "output_type": "display_data",
          "data": {
            "image/png": "[encoded data removed]",
            "text/plain": [
              "<Figure size 360x720 with 5 Axes>"
            ]
          },
          "metadata": {
            "tags": [],
            "needs_background": "light"
          }
        }
      ]
    },
    {
      "cell_type": "markdown",
      "metadata": {
        "id": "mK3rNKspA7f1"
      },
      "source": [
        "information: \n",
        "* decrease in stunting\n",
        "* no significant change in rest of the parameters\n",
        "* overweight is too less throughout the years"
      ],
      "id": "mK3rNKspA7f1"
    },
    {
      "cell_type": "markdown",
      "metadata": {
        "id": "DuL9PJehY0gs"
      },
      "source": [
        "# Comparison of India and Australia (worst and best) "
      ],
      "id": "DuL9PJehY0gs"
    },
    {
      "cell_type": "code",
      "metadata": {
        "colab": {
          "base_uri": "https://localhost:8080/",
          "height": 652
        },
        "id": "YSgUwxuZ84Ta",
        "outputId": "d16b9be5-0152-4b15-ac85-d1ab5f3e0194"
      },
      "source": [
        "figure, axes = plt.subplots(1,2)\n",
        "india.plot(ax = axes[0], x=\"Year\", y=[\"Severe Wasting\",\t\"Wasting\", \"Overweight\",\t\"Stunting\",\t\"Underweight\"], \n",
        "           ylabel = \"% Children population\", kind=\"bar\", figsize =(20,10), title = \"India over the Years\")\n",
        "\n",
        "australia.plot(ax = axes[1] ,x=\"Year\", y=[\"Severe Wasting\",\t\"Wasting\", \"Overweight\",\t\"Stunting\",\t\"Underweight\"], \n",
        "               ylabel = \"% Children population\", kind=\"bar\", figsize =(20,10), title = \"Australia over the Years\")"
      ],
      "id": "YSgUwxuZ84Ta",
      "execution_count": null,
      "outputs": [
        {
          "output_type": "execute_result",
          "data": {
            "text/plain": [
              "<matplotlib.axes._subplots.AxesSubplot at 0x7f6e515660d0>"
            ]
          },
          "metadata": {
            "tags": []
          },
          "execution_count": 101
        },
        {
          "output_type": "display_data",
          "data": {
            "image/png": "[encoded data removed]",
            "text/plain": [
              "<Figure size 1440x720 with 2 Axes>"
            ]
          },
          "metadata": {
            "tags": [],
            "needs_background": "light"
          }
        }
      ]
    },
    {
      "cell_type": "markdown",
      "metadata": {
        "id": "28NIGSl-cYQI"
      },
      "source": [
        ""
      ],
      "id": "28NIGSl-cYQI"
    }
  ]
}